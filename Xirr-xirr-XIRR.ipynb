{
 "cells": [
  {
   "cell_type": "code",
   "execution_count": 1,
   "metadata": {},
   "outputs": [],
   "source": [
    "import numpy as np\n",
    "import pandas as pd\n",
    "from datetime import timedelta, datetime, date"
   ]
  },
  {
   "cell_type": "markdown",
   "metadata": {},
   "source": [
    "#### Feed the downloaded file here"
   ]
  },
  {
   "cell_type": "code",
   "execution_count": 73,
   "metadata": {},
   "outputs": [],
   "source": [
    "df = pd.read_csv(r'C:\\Users\\user\\Downloads\\transactions2.csv')"
   ]
  },
  {
   "cell_type": "code",
   "execution_count": 74,
   "metadata": {},
   "outputs": [
    {
     "data": {
      "text/html": [
       "<div>\n",
       "<style scoped>\n",
       "    .dataframe tbody tr th:only-of-type {\n",
       "        vertical-align: middle;\n",
       "    }\n",
       "\n",
       "    .dataframe tbody tr th {\n",
       "        vertical-align: top;\n",
       "    }\n",
       "\n",
       "    .dataframe thead th {\n",
       "        text-align: right;\n",
       "    }\n",
       "</style>\n",
       "<table border=\"1\" class=\"dataframe\">\n",
       "  <thead>\n",
       "    <tr style=\"text-align: right;\">\n",
       "      <th></th>\n",
       "      <th>Date</th>\n",
       "      <th>Folio Number</th>\n",
       "      <th>Name of the Fund</th>\n",
       "      <th>Order</th>\n",
       "      <th>Units</th>\n",
       "      <th>NAV</th>\n",
       "      <th>Current Nav</th>\n",
       "      <th>Amount (INR)</th>\n",
       "    </tr>\n",
       "  </thead>\n",
       "  <tbody>\n",
       "    <tr>\n",
       "      <th>0</th>\n",
       "      <td>2023-12-31</td>\n",
       "      <td>499219379894</td>\n",
       "      <td>Nippon India Liquid Growth Direct Plan</td>\n",
       "      <td>sell</td>\n",
       "      <td>1.724</td>\n",
       "      <td>5799.9769</td>\n",
       "      <td>5799.9769</td>\n",
       "      <td>10000.00</td>\n",
       "    </tr>\n",
       "    <tr>\n",
       "      <th>1</th>\n",
       "      <td>2023-12-26</td>\n",
       "      <td>91018778532</td>\n",
       "      <td>Axis ELSS Tax Saver Growth Direct Plan</td>\n",
       "      <td>sell</td>\n",
       "      <td>24.109</td>\n",
       "      <td>87.1531</td>\n",
       "      <td>88.6224</td>\n",
       "      <td>2101.15</td>\n",
       "    </tr>\n",
       "    <tr>\n",
       "      <th>2</th>\n",
       "      <td>2023-12-26</td>\n",
       "      <td>2104123675</td>\n",
       "      <td>Invesco India ELSS Tax Saver Growth Direct Plan</td>\n",
       "      <td>sell</td>\n",
       "      <td>12.746</td>\n",
       "      <td>117.6900</td>\n",
       "      <td>118.8800</td>\n",
       "      <td>1500.00</td>\n",
       "    </tr>\n",
       "    <tr>\n",
       "      <th>3</th>\n",
       "      <td>2023-12-18</td>\n",
       "      <td>2104123675</td>\n",
       "      <td>Invesco India ELSS Tax Saver Growth Direct Plan</td>\n",
       "      <td>sell</td>\n",
       "      <td>117.000</td>\n",
       "      <td>117.0400</td>\n",
       "      <td>118.8800</td>\n",
       "      <td>13693.54</td>\n",
       "    </tr>\n",
       "    <tr>\n",
       "      <th>4</th>\n",
       "      <td>2023-12-18</td>\n",
       "      <td>91018778532</td>\n",
       "      <td>Axis ELSS Tax Saver Growth Direct Plan</td>\n",
       "      <td>sell</td>\n",
       "      <td>32.200</td>\n",
       "      <td>87.7642</td>\n",
       "      <td>88.6224</td>\n",
       "      <td>2825.98</td>\n",
       "    </tr>\n",
       "  </tbody>\n",
       "</table>\n",
       "</div>"
      ],
      "text/plain": [
       "             Date  Folio Number  \\\n",
       "0      2023-12-31  499219379894   \n",
       "1      2023-12-26   91018778532   \n",
       "2      2023-12-26    2104123675   \n",
       "3      2023-12-18    2104123675   \n",
       "4      2023-12-18   91018778532   \n",
       "\n",
       "                                  Name of the Fund Order    Units        NAV  \\\n",
       "0           Nippon India Liquid Growth Direct Plan  sell    1.724  5799.9769   \n",
       "1           Axis ELSS Tax Saver Growth Direct Plan  sell   24.109    87.1531   \n",
       "2  Invesco India ELSS Tax Saver Growth Direct Plan  sell   12.746   117.6900   \n",
       "3  Invesco India ELSS Tax Saver Growth Direct Plan  sell  117.000   117.0400   \n",
       "4           Axis ELSS Tax Saver Growth Direct Plan  sell   32.200    87.7642   \n",
       "\n",
       "   Current Nav  Amount (INR)  \n",
       "0    5799.9769      10000.00  \n",
       "1      88.6224       2101.15  \n",
       "2     118.8800       1500.00  \n",
       "3     118.8800      13693.54  \n",
       "4      88.6224       2825.98  "
      ]
     },
     "execution_count": 74,
     "metadata": {},
     "output_type": "execute_result"
    }
   ],
   "source": [
    "df.columns = df.columns.str.strip()\n",
    "df.head()"
   ]
  },
  {
   "cell_type": "code",
   "execution_count": 75,
   "metadata": {},
   "outputs": [],
   "source": [
    "df[\"Date\"] = pd.to_datetime(df[\"Date\"])"
   ]
  },
  {
   "cell_type": "code",
   "execution_count": 76,
   "metadata": {},
   "outputs": [],
   "source": [
    "df2 = df"
   ]
  },
  {
   "cell_type": "markdown",
   "metadata": {},
   "source": [
    "#### Prevent all the liquid fund from showing"
   ]
  },
  {
   "cell_type": "code",
   "execution_count": 77,
   "metadata": {},
   "outputs": [],
   "source": [
    "df = df[~df['Name of the Fund'].str.contains(\"Kuvera|Liquid|Money|Gilt|Cash|Bond|Debt|Short|Gold|Securities|Duration|Income\")]\n",
    "##remove the upper line in case performance of all the mutual fund is required\n",
    "df = df.loc[~df['Order'].str.contains(\"sell\")]"
   ]
  },
  {
   "cell_type": "code",
   "execution_count": 78,
   "metadata": {},
   "outputs": [],
   "source": [
    "today = pd.to_datetime(date.today())"
   ]
  },
  {
   "cell_type": "markdown",
   "metadata": {},
   "source": [
    "#### Control the number of days to look behind / calculate the Xirr for. for three years we take 365*3 = 1095 days"
   ]
  },
  {
   "cell_type": "code",
   "execution_count": 79,
   "metadata": {},
   "outputs": [],
   "source": [
    "df = df.loc[df['Date'] > (pd.to_datetime(date.today() - timedelta(days = 1095)))]"
   ]
  },
  {
   "cell_type": "code",
   "execution_count": 80,
   "metadata": {},
   "outputs": [],
   "source": [
    "mf_name = df['Name of the Fund'].unique()"
   ]
  },
  {
   "cell_type": "markdown",
   "metadata": {},
   "source": [
    "#### See the list of all the mutual funds"
   ]
  },
  {
   "cell_type": "code",
   "execution_count": 81,
   "metadata": {},
   "outputs": [
    {
     "data": {
      "text/plain": [
       "array(['Quant ELSS Tax Saver Growth Direct Plan',\n",
       "       'Mirae Asset ELSS Tax Saver Growth Direct Plan',\n",
       "       'Bank Of India ELSS Tax Saver Growth Direct Plan',\n",
       "       'Invesco India ELSS Tax Saver Growth Direct Plan',\n",
       "       'Axis ELSS Tax Saver Growth Direct Plan',\n",
       "       'Motilal Oswal ELSS Tax Saver Growth Direct Plan'], dtype=object)"
      ]
     },
     "execution_count": 81,
     "metadata": {},
     "output_type": "execute_result"
    }
   ],
   "source": [
    "mf_name"
   ]
  },
  {
   "cell_type": "code",
   "execution_count": 82,
   "metadata": {},
   "outputs": [],
   "source": [
    "df['Amount (INR)'] = df['Amount (INR)']*-1"
   ]
  },
  {
   "cell_type": "code",
   "execution_count": 83,
   "metadata": {},
   "outputs": [
    {
     "data": {
      "text/html": [
       "<div>\n",
       "<style scoped>\n",
       "    .dataframe tbody tr th:only-of-type {\n",
       "        vertical-align: middle;\n",
       "    }\n",
       "\n",
       "    .dataframe tbody tr th {\n",
       "        vertical-align: top;\n",
       "    }\n",
       "\n",
       "    .dataframe thead th {\n",
       "        text-align: right;\n",
       "    }\n",
       "</style>\n",
       "<table border=\"1\" class=\"dataframe\">\n",
       "  <thead>\n",
       "    <tr style=\"text-align: right;\">\n",
       "      <th></th>\n",
       "      <th>Date</th>\n",
       "      <th>Folio Number</th>\n",
       "      <th>Name of the Fund</th>\n",
       "      <th>Order</th>\n",
       "      <th>Units</th>\n",
       "      <th>NAV</th>\n",
       "      <th>Current Nav</th>\n",
       "      <th>Amount (INR)</th>\n",
       "    </tr>\n",
       "  </thead>\n",
       "  <tbody>\n",
       "    <tr>\n",
       "      <th>9</th>\n",
       "      <td>2023-12-01</td>\n",
       "      <td>5102600564</td>\n",
       "      <td>Quant ELSS Tax Saver Growth Direct Plan</td>\n",
       "      <td>buy</td>\n",
       "      <td>3.077</td>\n",
       "      <td>324.9875</td>\n",
       "      <td>355.6267</td>\n",
       "      <td>-999.95</td>\n",
       "    </tr>\n",
       "    <tr>\n",
       "      <th>13</th>\n",
       "      <td>2023-11-01</td>\n",
       "      <td>5102600564</td>\n",
       "      <td>Quant ELSS Tax Saver Growth Direct Plan</td>\n",
       "      <td>buy</td>\n",
       "      <td>3.395</td>\n",
       "      <td>294.5402</td>\n",
       "      <td>355.6267</td>\n",
       "      <td>-999.95</td>\n",
       "    </tr>\n",
       "    <tr>\n",
       "      <th>17</th>\n",
       "      <td>2023-10-04</td>\n",
       "      <td>5102600564</td>\n",
       "      <td>Quant ELSS Tax Saver Growth Direct Plan</td>\n",
       "      <td>buy</td>\n",
       "      <td>3.351</td>\n",
       "      <td>298.4250</td>\n",
       "      <td>355.6267</td>\n",
       "      <td>-999.95</td>\n",
       "    </tr>\n",
       "    <tr>\n",
       "      <th>29</th>\n",
       "      <td>2023-09-01</td>\n",
       "      <td>5102600564</td>\n",
       "      <td>Quant ELSS Tax Saver Growth Direct Plan</td>\n",
       "      <td>buy</td>\n",
       "      <td>3.353</td>\n",
       "      <td>298.2122</td>\n",
       "      <td>355.6267</td>\n",
       "      <td>-999.95</td>\n",
       "    </tr>\n",
       "    <tr>\n",
       "      <th>44</th>\n",
       "      <td>2023-07-20</td>\n",
       "      <td>5102600564</td>\n",
       "      <td>Quant ELSS Tax Saver Growth Direct Plan</td>\n",
       "      <td>buy</td>\n",
       "      <td>17.389</td>\n",
       "      <td>287.5225</td>\n",
       "      <td>355.6267</td>\n",
       "      <td>-4999.75</td>\n",
       "    </tr>\n",
       "  </tbody>\n",
       "</table>\n",
       "</div>"
      ],
      "text/plain": [
       "         Date Folio Number                         Name of the Fund Order  \\\n",
       "9  2023-12-01   5102600564  Quant ELSS Tax Saver Growth Direct Plan   buy   \n",
       "13 2023-11-01   5102600564  Quant ELSS Tax Saver Growth Direct Plan   buy   \n",
       "17 2023-10-04   5102600564  Quant ELSS Tax Saver Growth Direct Plan   buy   \n",
       "29 2023-09-01   5102600564  Quant ELSS Tax Saver Growth Direct Plan   buy   \n",
       "44 2023-07-20   5102600564  Quant ELSS Tax Saver Growth Direct Plan   buy   \n",
       "\n",
       "     Units       NAV  Current Nav  Amount (INR)  \n",
       "9    3.077  324.9875     355.6267       -999.95  \n",
       "13   3.395  294.5402     355.6267       -999.95  \n",
       "17   3.351  298.4250     355.6267       -999.95  \n",
       "29   3.353  298.2122     355.6267       -999.95  \n",
       "44  17.389  287.5225     355.6267      -4999.75  "
      ]
     },
     "execution_count": 83,
     "metadata": {},
     "output_type": "execute_result"
    }
   ],
   "source": [
    "df.head()"
   ]
  },
  {
   "cell_type": "markdown",
   "metadata": {},
   "source": [
    "#### Create the  function that calculates Xirr ( funciton copied from https://github.com/SunilVeeravalli/XIRR_in_Python/blob/main/xirr.py )"
   ]
  },
  {
   "cell_type": "code",
   "execution_count": 84,
   "metadata": {},
   "outputs": [],
   "source": [
    "min_rate = 0\n",
    "max_rate = 0\n",
    "def npv(seq_of_rates: np.array, data: pd.DataFrame) -> tuple:\n",
    "    global min_rate\n",
    "    global max_rate\n",
    "    \n",
    "    for a_rate in seq_of_rates:\n",
    "        max_date = data['Date'].max()\n",
    "        data['npv'] = data['Amount'] * ((1 + (a_rate / 100)) ** ((max_date - data['Date']).dt.days / 365))\n",
    "        \n",
    "        if data['Amount'].sum() > 0:\n",
    "            if data['npv'].sum() > 0:\n",
    "                min_rate = a_rate\n",
    "            else:\n",
    "                max_rate = a_rate\n",
    "                break\n",
    "        else:\n",
    "            if data['npv'].sum() < 0:\n",
    "                min_rate = a_rate\n",
    "            else:\n",
    "                max_rate = a_rate\n",
    "                break\n",
    "    \n",
    "    return min_rate, max_rate\n",
    "\n",
    "\n",
    "def xirr(data: pd.DataFrame) -> float:\n",
    "    # Finding out which column contains Date and Amount\n",
    "    try:\n",
    "        data.iloc[:, 0].astype(float)\n",
    "        col_names = ['Amount', 'Date']\n",
    "    except Exception as _:\n",
    "        col_names = ['Date', 'Amount']\n",
    "    \n",
    "    # Renaming the columns accordingly and converting to correct data types\n",
    "    data.columns = col_names\n",
    "    data = data.assign(Date = pd.to_datetime(arg = data['Date'], infer_datetime_format = True, dayfirst = True).dt.date,\n",
    "                       Amount = data['Amount'].astype(float))\n",
    "    \n",
    "    if data['Amount'].sum() > 0:\n",
    "        step_values = [100, 10, 1, 0.01, 0.001, 0.0001]\n",
    "        stop = 10000\n",
    "    else:\n",
    "        step_values = [-100, -10, -1, -0.01, -0.001, -0.0001]\n",
    "        stop = -10000\n",
    "    \n",
    "    start = 0\n",
    "    for i in range(len(step_values)):\n",
    "        seq_of_rates = np.arange(start = start, stop = stop, step = step_values[i])\n",
    "        start, stop = npv(seq_of_rates, data)\n",
    "    \n",
    "    return (start + stop) / 2\n"
   ]
  },
  {
   "cell_type": "code",
   "execution_count": 85,
   "metadata": {},
   "outputs": [
    {
     "name": "stderr",
     "output_type": "stream",
     "text": [
      "C:\\Users\\user\\AppData\\Local\\Temp\\ipykernel_3104\\4125528385.py:5: FutureWarning: The frame.append method is deprecated and will be removed from pandas in a future version. Use pandas.concat instead.\n",
      "  mf = mf.append(pd.DataFrame({'Date': today, 'Amount (INR)':mf.Units.sum() * mf['Current Nav'].unique() }),\n",
      "C:\\Users\\user\\AppData\\Local\\Temp\\ipykernel_3104\\4125528385.py:5: FutureWarning: The frame.append method is deprecated and will be removed from pandas in a future version. Use pandas.concat instead.\n",
      "  mf = mf.append(pd.DataFrame({'Date': today, 'Amount (INR)':mf.Units.sum() * mf['Current Nav'].unique() }),\n",
      "C:\\Users\\user\\AppData\\Local\\Temp\\ipykernel_3104\\4125528385.py:5: FutureWarning: The frame.append method is deprecated and will be removed from pandas in a future version. Use pandas.concat instead.\n",
      "  mf = mf.append(pd.DataFrame({'Date': today, 'Amount (INR)':mf.Units.sum() * mf['Current Nav'].unique() }),\n",
      "C:\\Users\\user\\AppData\\Local\\Temp\\ipykernel_3104\\4125528385.py:5: FutureWarning: The frame.append method is deprecated and will be removed from pandas in a future version. Use pandas.concat instead.\n",
      "  mf = mf.append(pd.DataFrame({'Date': today, 'Amount (INR)':mf.Units.sum() * mf['Current Nav'].unique() }),\n",
      "C:\\Users\\user\\AppData\\Local\\Temp\\ipykernel_3104\\4125528385.py:5: FutureWarning: The frame.append method is deprecated and will be removed from pandas in a future version. Use pandas.concat instead.\n",
      "  mf = mf.append(pd.DataFrame({'Date': today, 'Amount (INR)':mf.Units.sum() * mf['Current Nav'].unique() }),\n",
      "C:\\Users\\user\\AppData\\Local\\Temp\\ipykernel_3104\\4125528385.py:5: FutureWarning: The frame.append method is deprecated and will be removed from pandas in a future version. Use pandas.concat instead.\n",
      "  mf = mf.append(pd.DataFrame({'Date': today, 'Amount (INR)':mf.Units.sum() * mf['Current Nav'].unique() }),\n"
     ]
    }
   ],
   "source": [
    "solution = []\n",
    "mf= []\n",
    "for i in range(0,len(mf_name)):\n",
    "    mf = df[df['Name of the Fund'] == mf_name[i]]\n",
    "    mf = mf.append(pd.DataFrame({'Date': today, 'Amount (INR)':mf.Units.sum() * mf['Current Nav'].unique() }), \n",
    "                   ignore_index = True, sort = True)\n",
    "    ready_df = mf[['Date','Amount (INR)']]\n",
    "    solution.append(xirr(ready_df))"
   ]
  },
  {
   "cell_type": "code",
   "execution_count": 86,
   "metadata": {},
   "outputs": [],
   "source": [
    "final_df = pd.DataFrame(list(zip(mf_name.tolist(),solution)))"
   ]
  },
  {
   "cell_type": "code",
   "execution_count": 87,
   "metadata": {},
   "outputs": [],
   "source": [
    "final_df.columns = ['Name of the Fund', 'Xirr']"
   ]
  },
  {
   "cell_type": "markdown",
   "metadata": {},
   "source": [
    "### See the final performance of the mutual fund sorted based on the overall Xirr"
   ]
  },
  {
   "cell_type": "code",
   "execution_count": 88,
   "metadata": {
    "scrolled": true
   },
   "outputs": [
    {
     "data": {
      "text/html": [
       "<div>\n",
       "<style scoped>\n",
       "    .dataframe tbody tr th:only-of-type {\n",
       "        vertical-align: middle;\n",
       "    }\n",
       "\n",
       "    .dataframe tbody tr th {\n",
       "        vertical-align: top;\n",
       "    }\n",
       "\n",
       "    .dataframe thead th {\n",
       "        text-align: right;\n",
       "    }\n",
       "</style>\n",
       "<table border=\"1\" class=\"dataframe\">\n",
       "  <thead>\n",
       "    <tr style=\"text-align: right;\">\n",
       "      <th></th>\n",
       "      <th>Name of the Fund</th>\n",
       "      <th>Xirr</th>\n",
       "    </tr>\n",
       "  </thead>\n",
       "  <tbody>\n",
       "    <tr>\n",
       "      <th>0</th>\n",
       "      <td>Quant ELSS Tax Saver Growth Direct Plan</td>\n",
       "      <td>25.59505</td>\n",
       "    </tr>\n",
       "    <tr>\n",
       "      <th>5</th>\n",
       "      <td>Motilal Oswal ELSS Tax Saver Growth Direct Plan</td>\n",
       "      <td>22.05185</td>\n",
       "    </tr>\n",
       "    <tr>\n",
       "      <th>1</th>\n",
       "      <td>Mirae Asset ELSS Tax Saver Growth Direct Plan</td>\n",
       "      <td>18.66605</td>\n",
       "    </tr>\n",
       "    <tr>\n",
       "      <th>2</th>\n",
       "      <td>Bank Of India ELSS Tax Saver Growth Direct Plan</td>\n",
       "      <td>17.85885</td>\n",
       "    </tr>\n",
       "    <tr>\n",
       "      <th>3</th>\n",
       "      <td>Invesco India ELSS Tax Saver Growth Direct Plan</td>\n",
       "      <td>17.35915</td>\n",
       "    </tr>\n",
       "    <tr>\n",
       "      <th>4</th>\n",
       "      <td>Axis ELSS Tax Saver Growth Direct Plan</td>\n",
       "      <td>10.71265</td>\n",
       "    </tr>\n",
       "  </tbody>\n",
       "</table>\n",
       "</div>"
      ],
      "text/plain": [
       "                                  Name of the Fund      Xirr\n",
       "0          Quant ELSS Tax Saver Growth Direct Plan  25.59505\n",
       "5  Motilal Oswal ELSS Tax Saver Growth Direct Plan  22.05185\n",
       "1    Mirae Asset ELSS Tax Saver Growth Direct Plan  18.66605\n",
       "2  Bank Of India ELSS Tax Saver Growth Direct Plan  17.85885\n",
       "3  Invesco India ELSS Tax Saver Growth Direct Plan  17.35915\n",
       "4           Axis ELSS Tax Saver Growth Direct Plan  10.71265"
      ]
     },
     "execution_count": 88,
     "metadata": {},
     "output_type": "execute_result"
    }
   ],
   "source": [
    "final_df.sort_values('Xirr', ascending = False)"
   ]
  },
  {
   "cell_type": "code",
   "execution_count": 89,
   "metadata": {},
   "outputs": [
    {
     "data": {
      "text/html": [
       "<div>\n",
       "<style scoped>\n",
       "    .dataframe tbody tr th:only-of-type {\n",
       "        vertical-align: middle;\n",
       "    }\n",
       "\n",
       "    .dataframe tbody tr th {\n",
       "        vertical-align: top;\n",
       "    }\n",
       "\n",
       "    .dataframe thead th {\n",
       "        text-align: right;\n",
       "    }\n",
       "</style>\n",
       "<table border=\"1\" class=\"dataframe\">\n",
       "  <thead>\n",
       "    <tr style=\"text-align: right;\">\n",
       "      <th></th>\n",
       "      <th>Name of the Fund</th>\n",
       "      <th>Xirr</th>\n",
       "    </tr>\n",
       "  </thead>\n",
       "  <tbody>\n",
       "    <tr>\n",
       "      <th>4</th>\n",
       "      <td>Axis ELSS Tax Saver Growth Direct Plan</td>\n",
       "      <td>10.71265</td>\n",
       "    </tr>\n",
       "    <tr>\n",
       "      <th>2</th>\n",
       "      <td>Bank Of India ELSS Tax Saver Growth Direct Plan</td>\n",
       "      <td>17.85885</td>\n",
       "    </tr>\n",
       "    <tr>\n",
       "      <th>3</th>\n",
       "      <td>Invesco India ELSS Tax Saver Growth Direct Plan</td>\n",
       "      <td>17.35915</td>\n",
       "    </tr>\n",
       "    <tr>\n",
       "      <th>1</th>\n",
       "      <td>Mirae Asset ELSS Tax Saver Growth Direct Plan</td>\n",
       "      <td>18.66605</td>\n",
       "    </tr>\n",
       "    <tr>\n",
       "      <th>5</th>\n",
       "      <td>Motilal Oswal ELSS Tax Saver Growth Direct Plan</td>\n",
       "      <td>22.05185</td>\n",
       "    </tr>\n",
       "    <tr>\n",
       "      <th>0</th>\n",
       "      <td>Quant ELSS Tax Saver Growth Direct Plan</td>\n",
       "      <td>25.59505</td>\n",
       "    </tr>\n",
       "  </tbody>\n",
       "</table>\n",
       "</div>"
      ],
      "text/plain": [
       "                                  Name of the Fund      Xirr\n",
       "4           Axis ELSS Tax Saver Growth Direct Plan  10.71265\n",
       "2  Bank Of India ELSS Tax Saver Growth Direct Plan  17.85885\n",
       "3  Invesco India ELSS Tax Saver Growth Direct Plan  17.35915\n",
       "1    Mirae Asset ELSS Tax Saver Growth Direct Plan  18.66605\n",
       "5  Motilal Oswal ELSS Tax Saver Growth Direct Plan  22.05185\n",
       "0          Quant ELSS Tax Saver Growth Direct Plan  25.59505"
      ]
     },
     "execution_count": 89,
     "metadata": {},
     "output_type": "execute_result"
    }
   ],
   "source": [
    "final_df.sort_values('Name of the Fund', ascending = True)"
   ]
  },
  {
   "cell_type": "code",
   "execution_count": 90,
   "metadata": {},
   "outputs": [
    {
     "data": {
      "text/html": [
       "<div>\n",
       "<style scoped>\n",
       "    .dataframe tbody tr th:only-of-type {\n",
       "        vertical-align: middle;\n",
       "    }\n",
       "\n",
       "    .dataframe tbody tr th {\n",
       "        vertical-align: top;\n",
       "    }\n",
       "\n",
       "    .dataframe thead th {\n",
       "        text-align: right;\n",
       "    }\n",
       "</style>\n",
       "<table border=\"1\" class=\"dataframe\">\n",
       "  <thead>\n",
       "    <tr style=\"text-align: right;\">\n",
       "      <th></th>\n",
       "      <th>Name of the Fund</th>\n",
       "      <th>Xirr</th>\n",
       "    </tr>\n",
       "  </thead>\n",
       "  <tbody>\n",
       "    <tr>\n",
       "      <th>0</th>\n",
       "      <td>Quant ELSS Tax Saver Growth Direct Plan</td>\n",
       "      <td>25.59505</td>\n",
       "    </tr>\n",
       "    <tr>\n",
       "      <th>1</th>\n",
       "      <td>Mirae Asset ELSS Tax Saver Growth Direct Plan</td>\n",
       "      <td>18.66605</td>\n",
       "    </tr>\n",
       "    <tr>\n",
       "      <th>2</th>\n",
       "      <td>Bank Of India ELSS Tax Saver Growth Direct Plan</td>\n",
       "      <td>17.85885</td>\n",
       "    </tr>\n",
       "    <tr>\n",
       "      <th>3</th>\n",
       "      <td>Invesco India ELSS Tax Saver Growth Direct Plan</td>\n",
       "      <td>17.35915</td>\n",
       "    </tr>\n",
       "    <tr>\n",
       "      <th>4</th>\n",
       "      <td>Axis ELSS Tax Saver Growth Direct Plan</td>\n",
       "      <td>10.71265</td>\n",
       "    </tr>\n",
       "    <tr>\n",
       "      <th>5</th>\n",
       "      <td>Motilal Oswal ELSS Tax Saver Growth Direct Plan</td>\n",
       "      <td>22.05185</td>\n",
       "    </tr>\n",
       "  </tbody>\n",
       "</table>\n",
       "</div>"
      ],
      "text/plain": [
       "                                  Name of the Fund      Xirr\n",
       "0          Quant ELSS Tax Saver Growth Direct Plan  25.59505\n",
       "1    Mirae Asset ELSS Tax Saver Growth Direct Plan  18.66605\n",
       "2  Bank Of India ELSS Tax Saver Growth Direct Plan  17.85885\n",
       "3  Invesco India ELSS Tax Saver Growth Direct Plan  17.35915\n",
       "4           Axis ELSS Tax Saver Growth Direct Plan  10.71265\n",
       "5  Motilal Oswal ELSS Tax Saver Growth Direct Plan  22.05185"
      ]
     },
     "execution_count": 90,
     "metadata": {},
     "output_type": "execute_result"
    }
   ],
   "source": [
    "final_df"
   ]
  },
  {
   "cell_type": "code",
   "execution_count": 91,
   "metadata": {},
   "outputs": [],
   "source": [
    "df_temp = df.loc[df['Name of the Fund']=='Quant Large & Mid Cap Growth Direct Plan']"
   ]
  },
  {
   "cell_type": "code",
   "execution_count": 92,
   "metadata": {},
   "outputs": [
    {
     "data": {
      "text/html": [
       "<div>\n",
       "<style scoped>\n",
       "    .dataframe tbody tr th:only-of-type {\n",
       "        vertical-align: middle;\n",
       "    }\n",
       "\n",
       "    .dataframe tbody tr th {\n",
       "        vertical-align: top;\n",
       "    }\n",
       "\n",
       "    .dataframe thead th {\n",
       "        text-align: right;\n",
       "    }\n",
       "</style>\n",
       "<table border=\"1\" class=\"dataframe\">\n",
       "  <thead>\n",
       "    <tr style=\"text-align: right;\">\n",
       "      <th></th>\n",
       "      <th>Date</th>\n",
       "      <th>Folio Number</th>\n",
       "      <th>Name of the Fund</th>\n",
       "      <th>Order</th>\n",
       "      <th>Units</th>\n",
       "      <th>NAV</th>\n",
       "      <th>Current Nav</th>\n",
       "      <th>Amount (INR)</th>\n",
       "    </tr>\n",
       "  </thead>\n",
       "  <tbody>\n",
       "  </tbody>\n",
       "</table>\n",
       "</div>"
      ],
      "text/plain": [
       "Empty DataFrame\n",
       "Columns: [Date, Folio Number, Name of the Fund, Order, Units, NAV, Current Nav, Amount (INR)]\n",
       "Index: []"
      ]
     },
     "execution_count": 92,
     "metadata": {},
     "output_type": "execute_result"
    }
   ],
   "source": [
    "df_temp.head()"
   ]
  },
  {
   "cell_type": "code",
   "execution_count": 93,
   "metadata": {},
   "outputs": [
    {
     "name": "stderr",
     "output_type": "stream",
     "text": [
      "C:\\Users\\user\\AppData\\Local\\Temp\\ipykernel_3104\\3455194109.py:1: SettingWithCopyWarning: \n",
      "A value is trying to be set on a copy of a slice from a DataFrame\n",
      "\n",
      "See the caveats in the documentation: https://pandas.pydata.org/pandas-docs/stable/user_guide/indexing.html#returning-a-view-versus-a-copy\n",
      "  df_temp.sort_values(by=['Date'],axis=0, ascending=True, inplace=True)\n"
     ]
    }
   ],
   "source": [
    "df_temp.sort_values(by=['Date'],axis=0, ascending=True, inplace=True)"
   ]
  },
  {
   "cell_type": "code",
   "execution_count": 94,
   "metadata": {},
   "outputs": [
    {
     "data": {
      "text/html": [
       "<div>\n",
       "<style scoped>\n",
       "    .dataframe tbody tr th:only-of-type {\n",
       "        vertical-align: middle;\n",
       "    }\n",
       "\n",
       "    .dataframe tbody tr th {\n",
       "        vertical-align: top;\n",
       "    }\n",
       "\n",
       "    .dataframe thead th {\n",
       "        text-align: right;\n",
       "    }\n",
       "</style>\n",
       "<table border=\"1\" class=\"dataframe\">\n",
       "  <thead>\n",
       "    <tr style=\"text-align: right;\">\n",
       "      <th></th>\n",
       "      <th>Date</th>\n",
       "      <th>Folio Number</th>\n",
       "      <th>Name of the Fund</th>\n",
       "      <th>Order</th>\n",
       "      <th>Units</th>\n",
       "      <th>NAV</th>\n",
       "      <th>Current Nav</th>\n",
       "      <th>Amount (INR)</th>\n",
       "    </tr>\n",
       "  </thead>\n",
       "  <tbody>\n",
       "  </tbody>\n",
       "</table>\n",
       "</div>"
      ],
      "text/plain": [
       "Empty DataFrame\n",
       "Columns: [Date, Folio Number, Name of the Fund, Order, Units, NAV, Current Nav, Amount (INR)]\n",
       "Index: []"
      ]
     },
     "execution_count": 94,
     "metadata": {},
     "output_type": "execute_result"
    }
   ],
   "source": [
    "df_temp"
   ]
  },
  {
   "cell_type": "code",
   "execution_count": 95,
   "metadata": {},
   "outputs": [
    {
     "name": "stdout",
     "output_type": "stream",
     "text": [
      "<class 'pandas.core.frame.DataFrame'>\n",
      "RangeIndex: 6 entries, 0 to 5\n",
      "Data columns (total 2 columns):\n",
      " #   Column            Non-Null Count  Dtype  \n",
      "---  ------            --------------  -----  \n",
      " 0   Name of the Fund  6 non-null      object \n",
      " 1   Xirr              6 non-null      float64\n",
      "dtypes: float64(1), object(1)\n",
      "memory usage: 228.0+ bytes\n"
     ]
    }
   ],
   "source": [
    "final_df.info()"
   ]
  },
  {
   "cell_type": "code",
   "execution_count": null,
   "metadata": {},
   "outputs": [],
   "source": []
  },
  {
   "cell_type": "code",
   "execution_count": null,
   "metadata": {},
   "outputs": [],
   "source": []
  },
  {
   "cell_type": "code",
   "execution_count": null,
   "metadata": {},
   "outputs": [],
   "source": []
  }
 ],
 "metadata": {
  "kernelspec": {
   "display_name": "Python 3 (ipykernel)",
   "language": "python",
   "name": "python3"
  },
  "language_info": {
   "codemirror_mode": {
    "name": "ipython",
    "version": 3
   },
   "file_extension": ".py",
   "mimetype": "text/x-python",
   "name": "python",
   "nbconvert_exporter": "python",
   "pygments_lexer": "ipython3",
   "version": "3.11.4"
  }
 },
 "nbformat": 4,
 "nbformat_minor": 2
}

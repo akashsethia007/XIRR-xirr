{
 "cells": [
  {
   "cell_type": "code",
   "execution_count": 1,
   "metadata": {},
   "outputs": [],
   "source": [
    "import numpy as np\n",
    "import pandas as pd\n",
    "from datetime import timedelta, datetime, date"
   ]
  },
  {
   "cell_type": "code",
   "execution_count": 2,
   "metadata": {},
   "outputs": [],
   "source": [
    "df = pd.read_csv('transactions_akash.csv')"
   ]
  },
  {
   "cell_type": "code",
   "execution_count": 3,
   "metadata": {},
   "outputs": [
    {
     "data": {
      "text/html": [
       "<div>\n",
       "<style scoped>\n",
       "    .dataframe tbody tr th:only-of-type {\n",
       "        vertical-align: middle;\n",
       "    }\n",
       "\n",
       "    .dataframe tbody tr th {\n",
       "        vertical-align: top;\n",
       "    }\n",
       "\n",
       "    .dataframe thead th {\n",
       "        text-align: right;\n",
       "    }\n",
       "</style>\n",
       "<table border=\"1\" class=\"dataframe\">\n",
       "  <thead>\n",
       "    <tr style=\"text-align: right;\">\n",
       "      <th></th>\n",
       "      <th>Date</th>\n",
       "      <th>Folio Number</th>\n",
       "      <th>Name of the Fund</th>\n",
       "      <th>Order</th>\n",
       "      <th>Units</th>\n",
       "      <th>NAV</th>\n",
       "      <th>Current Nav</th>\n",
       "      <th>Amount (INR)</th>\n",
       "    </tr>\n",
       "  </thead>\n",
       "  <tbody>\n",
       "    <tr>\n",
       "      <td>0</td>\n",
       "      <td>2022-08-19</td>\n",
       "      <td>5102600564</td>\n",
       "      <td>Quant Tax Growth Direct Plan</td>\n",
       "      <td>buy</td>\n",
       "      <td>11.771</td>\n",
       "      <td>254.8617</td>\n",
       "      <td>254.8617</td>\n",
       "      <td>2999.85</td>\n",
       "    </tr>\n",
       "    <tr>\n",
       "      <td>1</td>\n",
       "      <td>2022-08-19</td>\n",
       "      <td>79912985615</td>\n",
       "      <td>Mirae Asset Tax Saver Growth Direct Plan</td>\n",
       "      <td>buy</td>\n",
       "      <td>87.712</td>\n",
       "      <td>34.2010</td>\n",
       "      <td>34.2010</td>\n",
       "      <td>2999.85</td>\n",
       "    </tr>\n",
       "    <tr>\n",
       "      <td>2</td>\n",
       "      <td>2022-08-19</td>\n",
       "      <td>3394841/89</td>\n",
       "      <td>Tata India Tax Saving Growth Direct Plan</td>\n",
       "      <td>sell</td>\n",
       "      <td>54.654</td>\n",
       "      <td>31.8339</td>\n",
       "      <td>31.8339</td>\n",
       "      <td>1739.83</td>\n",
       "    </tr>\n",
       "    <tr>\n",
       "      <td>3</td>\n",
       "      <td>2022-08-19</td>\n",
       "      <td>91018778532</td>\n",
       "      <td>Axis Long Term Equity Growth Direct Plan</td>\n",
       "      <td>sell</td>\n",
       "      <td>31.521</td>\n",
       "      <td>75.7918</td>\n",
       "      <td>75.7918</td>\n",
       "      <td>2389.01</td>\n",
       "    </tr>\n",
       "    <tr>\n",
       "      <td>4</td>\n",
       "      <td>2022-08-19</td>\n",
       "      <td>2104123675</td>\n",
       "      <td>Invesco India Tax Growth Direct Plan</td>\n",
       "      <td>sell</td>\n",
       "      <td>18.311</td>\n",
       "      <td>90.1100</td>\n",
       "      <td>90.1100</td>\n",
       "      <td>1650.00</td>\n",
       "    </tr>\n",
       "  </tbody>\n",
       "</table>\n",
       "</div>"
      ],
      "text/plain": [
       "             Date Folio Number                          Name of the Fund  \\\n",
       "0      2022-08-19   5102600564              Quant Tax Growth Direct Plan   \n",
       "1      2022-08-19  79912985615  Mirae Asset Tax Saver Growth Direct Plan   \n",
       "2      2022-08-19   3394841/89  Tata India Tax Saving Growth Direct Plan   \n",
       "3      2022-08-19  91018778532  Axis Long Term Equity Growth Direct Plan   \n",
       "4      2022-08-19   2104123675      Invesco India Tax Growth Direct Plan   \n",
       "\n",
       "  Order   Units       NAV  Current Nav  Amount (INR)  \n",
       "0   buy  11.771  254.8617     254.8617       2999.85  \n",
       "1   buy  87.712   34.2010      34.2010       2999.85  \n",
       "2  sell  54.654   31.8339      31.8339       1739.83  \n",
       "3  sell  31.521   75.7918      75.7918       2389.01  \n",
       "4  sell  18.311   90.1100      90.1100       1650.00  "
      ]
     },
     "execution_count": 3,
     "metadata": {},
     "output_type": "execute_result"
    }
   ],
   "source": [
    "df.columns = df.columns.str.strip()\n",
    "df.head()"
   ]
  },
  {
   "cell_type": "code",
   "execution_count": 4,
   "metadata": {},
   "outputs": [],
   "source": [
    "df[\"Date\"] = pd.to_datetime(df[\"Date\"])"
   ]
  },
  {
   "cell_type": "code",
   "execution_count": 5,
   "metadata": {},
   "outputs": [],
   "source": [
    "df2 = df"
   ]
  },
  {
   "cell_type": "code",
   "execution_count": 6,
   "metadata": {},
   "outputs": [],
   "source": [
    "df = df[~df['Name of the Fund'].str.contains(\"Liquid|Money|Gilt|Cash|Bond|Debt|Short|Gold|Securities|Duration|Income\")]\n",
    "df = df.loc[~df['Order'].str.contains(\"sell\")]"
   ]
  },
  {
   "cell_type": "code",
   "execution_count": 7,
   "metadata": {},
   "outputs": [],
   "source": [
    "today = pd.to_datetime(date.today())"
   ]
  },
  {
   "cell_type": "code",
   "execution_count": 8,
   "metadata": {},
   "outputs": [],
   "source": [
    "df = df.loc[df['Date'] > (pd.to_datetime(date.today() - timedelta(days = 1095)))]"
   ]
  },
  {
   "cell_type": "code",
   "execution_count": 9,
   "metadata": {},
   "outputs": [],
   "source": [
    "mf_name = df['Name of the Fund'].unique()"
   ]
  },
  {
   "cell_type": "code",
   "execution_count": 10,
   "metadata": {},
   "outputs": [
    {
     "data": {
      "text/plain": [
       "array(['Quant Tax Growth Direct Plan',\n",
       "       'Mirae Asset Tax Saver Growth Direct Plan',\n",
       "       'Bank Of India Tax Advantage Growth Direct Plan',\n",
       "       'Invesco India Tax Growth Direct Plan',\n",
       "       'Axis Long Term Equity Growth Direct Plan',\n",
       "       'Motilal Oswal Long Term Equity Growth Direct Plan',\n",
       "       'Tata India Tax Saving Growth Direct Plan',\n",
       "       'PGIM India Midcap Opportunities Growth Direct Plan',\n",
       "       'Quant Small Cap Growth Direct Plan',\n",
       "       'DSP Healthcare Growth Direct Plan',\n",
       "       'Quant Active Growth Direct Plan',\n",
       "       'Nippon India Tax Saver Growth Direct Plan',\n",
       "       'Franklin India Taxshield Growth Direct Plan'], dtype=object)"
      ]
     },
     "execution_count": 10,
     "metadata": {},
     "output_type": "execute_result"
    }
   ],
   "source": [
    "mf_name"
   ]
  },
  {
   "cell_type": "code",
   "execution_count": 11,
   "metadata": {
    "scrolled": true
   },
   "outputs": [
    {
     "name": "stdout",
     "output_type": "stream",
     "text": [
      "<class 'pandas.core.frame.DataFrame'>\n",
      "Int64Index: 635 entries, 0 to 1122\n",
      "Data columns (total 8 columns):\n",
      "Date                635 non-null datetime64[ns]\n",
      "Folio Number        635 non-null object\n",
      "Name of the Fund    635 non-null object\n",
      "Order               635 non-null object\n",
      "Units               635 non-null float64\n",
      "NAV                 635 non-null float64\n",
      "Current Nav         635 non-null float64\n",
      "Amount (INR)        635 non-null float64\n",
      "dtypes: datetime64[ns](1), float64(4), object(3)\n",
      "memory usage: 44.6+ KB\n"
     ]
    }
   ],
   "source": [
    "df.info()"
   ]
  },
  {
   "cell_type": "code",
   "execution_count": 13,
   "metadata": {},
   "outputs": [],
   "source": [
    "df['Amount (INR)'] = df['Amount (INR)']*-1"
   ]
  },
  {
   "cell_type": "code",
   "execution_count": 14,
   "metadata": {},
   "outputs": [
    {
     "data": {
      "text/html": [
       "<div>\n",
       "<style scoped>\n",
       "    .dataframe tbody tr th:only-of-type {\n",
       "        vertical-align: middle;\n",
       "    }\n",
       "\n",
       "    .dataframe tbody tr th {\n",
       "        vertical-align: top;\n",
       "    }\n",
       "\n",
       "    .dataframe thead th {\n",
       "        text-align: right;\n",
       "    }\n",
       "</style>\n",
       "<table border=\"1\" class=\"dataframe\">\n",
       "  <thead>\n",
       "    <tr style=\"text-align: right;\">\n",
       "      <th></th>\n",
       "      <th>Date</th>\n",
       "      <th>Folio Number</th>\n",
       "      <th>Name of the Fund</th>\n",
       "      <th>Order</th>\n",
       "      <th>Units</th>\n",
       "      <th>NAV</th>\n",
       "      <th>Current Nav</th>\n",
       "      <th>Amount (INR)</th>\n",
       "    </tr>\n",
       "  </thead>\n",
       "  <tbody>\n",
       "    <tr>\n",
       "      <td>0</td>\n",
       "      <td>2022-08-19</td>\n",
       "      <td>5102600564</td>\n",
       "      <td>Quant Tax Growth Direct Plan</td>\n",
       "      <td>buy</td>\n",
       "      <td>11.771</td>\n",
       "      <td>254.8617</td>\n",
       "      <td>254.8617</td>\n",
       "      <td>-2999.85</td>\n",
       "    </tr>\n",
       "    <tr>\n",
       "      <td>1</td>\n",
       "      <td>2022-08-19</td>\n",
       "      <td>79912985615</td>\n",
       "      <td>Mirae Asset Tax Saver Growth Direct Plan</td>\n",
       "      <td>buy</td>\n",
       "      <td>87.712</td>\n",
       "      <td>34.2010</td>\n",
       "      <td>34.2010</td>\n",
       "      <td>-2999.85</td>\n",
       "    </tr>\n",
       "    <tr>\n",
       "      <td>5</td>\n",
       "      <td>2022-08-08</td>\n",
       "      <td>5102600564</td>\n",
       "      <td>Quant Tax Growth Direct Plan</td>\n",
       "      <td>buy</td>\n",
       "      <td>37.451</td>\n",
       "      <td>248.3147</td>\n",
       "      <td>254.8617</td>\n",
       "      <td>-9299.54</td>\n",
       "    </tr>\n",
       "    <tr>\n",
       "      <td>6</td>\n",
       "      <td>2022-08-08</td>\n",
       "      <td>79912985615</td>\n",
       "      <td>Mirae Asset Tax Saver Growth Direct Plan</td>\n",
       "      <td>buy</td>\n",
       "      <td>281.626</td>\n",
       "      <td>33.7310</td>\n",
       "      <td>34.2010</td>\n",
       "      <td>-9499.53</td>\n",
       "    </tr>\n",
       "    <tr>\n",
       "      <td>23</td>\n",
       "      <td>2022-07-28</td>\n",
       "      <td>79912985615</td>\n",
       "      <td>Mirae Asset Tax Saver Growth Direct Plan</td>\n",
       "      <td>buy</td>\n",
       "      <td>214.109</td>\n",
       "      <td>32.6920</td>\n",
       "      <td>34.2010</td>\n",
       "      <td>-6999.65</td>\n",
       "    </tr>\n",
       "  </tbody>\n",
       "</table>\n",
       "</div>"
      ],
      "text/plain": [
       "         Date Folio Number                          Name of the Fund Order  \\\n",
       "0  2022-08-19   5102600564              Quant Tax Growth Direct Plan   buy   \n",
       "1  2022-08-19  79912985615  Mirae Asset Tax Saver Growth Direct Plan   buy   \n",
       "5  2022-08-08   5102600564              Quant Tax Growth Direct Plan   buy   \n",
       "6  2022-08-08  79912985615  Mirae Asset Tax Saver Growth Direct Plan   buy   \n",
       "23 2022-07-28  79912985615  Mirae Asset Tax Saver Growth Direct Plan   buy   \n",
       "\n",
       "      Units       NAV  Current Nav  Amount (INR)  \n",
       "0    11.771  254.8617     254.8617      -2999.85  \n",
       "1    87.712   34.2010      34.2010      -2999.85  \n",
       "5    37.451  248.3147     254.8617      -9299.54  \n",
       "6   281.626   33.7310      34.2010      -9499.53  \n",
       "23  214.109   32.6920      34.2010      -6999.65  "
      ]
     },
     "execution_count": 14,
     "metadata": {},
     "output_type": "execute_result"
    }
   ],
   "source": [
    "df.head()"
   ]
  },
  {
   "cell_type": "code",
   "execution_count": 15,
   "metadata": {},
   "outputs": [],
   "source": [
    "min_rate = 0\n",
    "max_rate = 0\n",
    "def npv(seq_of_rates: np.array, data: pd.DataFrame) -> tuple:\n",
    "    global min_rate\n",
    "    global max_rate\n",
    "    \n",
    "    for a_rate in seq_of_rates:\n",
    "        max_date = data['Date'].max()\n",
    "        data['npv'] = data['Amount'] * ((1 + (a_rate / 100)) ** ((max_date - data['Date']).dt.days / 365))\n",
    "        \n",
    "        if data['Amount'].sum() > 0:\n",
    "            if data['npv'].sum() > 0:\n",
    "                min_rate = a_rate\n",
    "            else:\n",
    "                max_rate = a_rate\n",
    "                break\n",
    "        else:\n",
    "            if data['npv'].sum() < 0:\n",
    "                min_rate = a_rate\n",
    "            else:\n",
    "                max_rate = a_rate\n",
    "                break\n",
    "    \n",
    "    return min_rate, max_rate\n",
    "\n",
    "\n",
    "def xirr(data: pd.DataFrame) -> float:\n",
    "    # Finding out which column contains Date and Amount\n",
    "    try:\n",
    "        data.iloc[:, 0].astype(float)\n",
    "        col_names = ['Amount', 'Date']\n",
    "    except Exception as _:\n",
    "        col_names = ['Date', 'Amount']\n",
    "    \n",
    "    # Renaming the columns accordingly and converting to correct data types\n",
    "    data.columns = col_names\n",
    "    data = data.assign(Date = pd.to_datetime(arg = data['Date'], infer_datetime_format = True, dayfirst = True).dt.date,\n",
    "                       Amount = data['Amount'].astype(float))\n",
    "    \n",
    "    if data['Amount'].sum() > 0:\n",
    "        step_values = [100, 10, 1, 0.01, 0.001, 0.0001]\n",
    "        stop = 10000\n",
    "    else:\n",
    "        step_values = [-100, -10, -1, -0.01, -0.001, -0.0001]\n",
    "        stop = -10000\n",
    "    \n",
    "    start = 0\n",
    "    for i in range(len(step_values)):\n",
    "        seq_of_rates = np.arange(start = start, stop = stop, step = step_values[i])\n",
    "        start, stop = npv(seq_of_rates, data)\n",
    "    \n",
    "    return (start + stop) / 2\n"
   ]
  },
  {
   "cell_type": "code",
   "execution_count": 63,
   "metadata": {},
   "outputs": [],
   "source": [
    "solution = []\n",
    "mf= []\n",
    "for i in range(0,len(mf_name)):\n",
    "    mf = df[df['Name of the Fund'] == mf_name[i]]\n",
    "    mf = mf.append(pd.DataFrame({'Date': today, 'Amount (INR)':mf.Units.sum() * mf['Current Nav'].unique() }), \n",
    "                   ignore_index = True, sort = True)\n",
    "    ready_df = mf[['Date','Amount (INR)']]\n",
    "    solution.append(xirr(ready_df))"
   ]
  },
  {
   "cell_type": "code",
   "execution_count": 64,
   "metadata": {},
   "outputs": [],
   "source": [
    "final_df = pd.DataFrame(list(zip(mf_name.tolist(),solution)))"
   ]
  },
  {
   "cell_type": "code",
   "execution_count": 65,
   "metadata": {},
   "outputs": [
    {
     "data": {
      "text/html": [
       "<div>\n",
       "<style scoped>\n",
       "    .dataframe tbody tr th:only-of-type {\n",
       "        vertical-align: middle;\n",
       "    }\n",
       "\n",
       "    .dataframe tbody tr th {\n",
       "        vertical-align: top;\n",
       "    }\n",
       "\n",
       "    .dataframe thead th {\n",
       "        text-align: right;\n",
       "    }\n",
       "</style>\n",
       "<table border=\"1\" class=\"dataframe\">\n",
       "  <thead>\n",
       "    <tr style=\"text-align: right;\">\n",
       "      <th></th>\n",
       "      <th>0</th>\n",
       "      <th>1</th>\n",
       "    </tr>\n",
       "  </thead>\n",
       "  <tbody>\n",
       "    <tr>\n",
       "      <td>8</td>\n",
       "      <td>Quant Small Cap Growth Direct Plan</td>\n",
       "      <td>51.78235</td>\n",
       "    </tr>\n",
       "    <tr>\n",
       "      <td>7</td>\n",
       "      <td>PGIM India Midcap Opportunities Growth Direct ...</td>\n",
       "      <td>43.90835</td>\n",
       "    </tr>\n",
       "    <tr>\n",
       "      <td>10</td>\n",
       "      <td>Quant Active Growth Direct Plan</td>\n",
       "      <td>41.46145</td>\n",
       "    </tr>\n",
       "    <tr>\n",
       "      <td>0</td>\n",
       "      <td>Quant Tax Growth Direct Plan</td>\n",
       "      <td>32.68925</td>\n",
       "    </tr>\n",
       "    <tr>\n",
       "      <td>1</td>\n",
       "      <td>Mirae Asset Tax Saver Growth Direct Plan</td>\n",
       "      <td>27.05145</td>\n",
       "    </tr>\n",
       "    <tr>\n",
       "      <td>6</td>\n",
       "      <td>Tata India Tax Saving Growth Direct Plan</td>\n",
       "      <td>23.27885</td>\n",
       "    </tr>\n",
       "    <tr>\n",
       "      <td>11</td>\n",
       "      <td>Nippon India Tax Saver Growth Direct Plan</td>\n",
       "      <td>22.46055</td>\n",
       "    </tr>\n",
       "    <tr>\n",
       "      <td>5</td>\n",
       "      <td>Motilal Oswal Long Term Equity Growth Direct Plan</td>\n",
       "      <td>21.83305</td>\n",
       "    </tr>\n",
       "    <tr>\n",
       "      <td>3</td>\n",
       "      <td>Invesco India Tax Growth Direct Plan</td>\n",
       "      <td>21.82935</td>\n",
       "    </tr>\n",
       "    <tr>\n",
       "      <td>12</td>\n",
       "      <td>Franklin India Taxshield Growth Direct Plan</td>\n",
       "      <td>18.42105</td>\n",
       "    </tr>\n",
       "    <tr>\n",
       "      <td>4</td>\n",
       "      <td>Axis Long Term Equity Growth Direct Plan</td>\n",
       "      <td>18.01935</td>\n",
       "    </tr>\n",
       "    <tr>\n",
       "      <td>9</td>\n",
       "      <td>DSP Healthcare Growth Direct Plan</td>\n",
       "      <td>11.31075</td>\n",
       "    </tr>\n",
       "    <tr>\n",
       "      <td>2</td>\n",
       "      <td>Bank Of India Tax Advantage Growth Direct Plan</td>\n",
       "      <td>-1.97235</td>\n",
       "    </tr>\n",
       "  </tbody>\n",
       "</table>\n",
       "</div>"
      ],
      "text/plain": [
       "                                                    0         1\n",
       "8                  Quant Small Cap Growth Direct Plan  51.78235\n",
       "7   PGIM India Midcap Opportunities Growth Direct ...  43.90835\n",
       "10                    Quant Active Growth Direct Plan  41.46145\n",
       "0                        Quant Tax Growth Direct Plan  32.68925\n",
       "1            Mirae Asset Tax Saver Growth Direct Plan  27.05145\n",
       "6            Tata India Tax Saving Growth Direct Plan  23.27885\n",
       "11          Nippon India Tax Saver Growth Direct Plan  22.46055\n",
       "5   Motilal Oswal Long Term Equity Growth Direct Plan  21.83305\n",
       "3                Invesco India Tax Growth Direct Plan  21.82935\n",
       "12        Franklin India Taxshield Growth Direct Plan  18.42105\n",
       "4            Axis Long Term Equity Growth Direct Plan  18.01935\n",
       "9                   DSP Healthcare Growth Direct Plan  11.31075\n",
       "2      Bank Of India Tax Advantage Growth Direct Plan  -1.97235"
      ]
     },
     "execution_count": 65,
     "metadata": {},
     "output_type": "execute_result"
    }
   ],
   "source": [
    "final_df.sort_values(1, ascending = False)"
   ]
  },
  {
   "cell_type": "code",
   "execution_count": 66,
   "metadata": {},
   "outputs": [
    {
     "ename": "KeyError",
     "evalue": "'0'",
     "output_type": "error",
     "traceback": [
      "\u001b[1;31m---------------------------------------------------------------------------\u001b[0m",
      "\u001b[1;31mKeyError\u001b[0m                                  Traceback (most recent call last)",
      "\u001b[1;32m<ipython-input-66-f73bec981ea2>\u001b[0m in \u001b[0;36m<module>\u001b[1;34m\u001b[0m\n\u001b[1;32m----> 1\u001b[1;33m \u001b[0mfinal_df\u001b[0m\u001b[1;33m.\u001b[0m\u001b[0msort_values\u001b[0m\u001b[1;33m(\u001b[0m\u001b[0mby\u001b[0m \u001b[1;33m=\u001b[0m \u001b[1;34m'0'\u001b[0m\u001b[1;33m,\u001b[0m \u001b[0mascending\u001b[0m \u001b[1;33m=\u001b[0m \u001b[1;32mFalse\u001b[0m\u001b[1;33m)\u001b[0m\u001b[1;33m\u001b[0m\u001b[1;33m\u001b[0m\u001b[0m\n\u001b[0m",
      "\u001b[1;32mC:\\ProgramData\\Anaconda3\\lib\\site-packages\\pandas\\core\\frame.py\u001b[0m in \u001b[0;36msort_values\u001b[1;34m(self, by, axis, ascending, inplace, kind, na_position)\u001b[0m\n\u001b[0;32m   4991\u001b[0m \u001b[1;33m\u001b[0m\u001b[0m\n\u001b[0;32m   4992\u001b[0m             \u001b[0mby\u001b[0m \u001b[1;33m=\u001b[0m \u001b[0mby\u001b[0m\u001b[1;33m[\u001b[0m\u001b[1;36m0\u001b[0m\u001b[1;33m]\u001b[0m\u001b[1;33m\u001b[0m\u001b[1;33m\u001b[0m\u001b[0m\n\u001b[1;32m-> 4993\u001b[1;33m             \u001b[0mk\u001b[0m \u001b[1;33m=\u001b[0m \u001b[0mself\u001b[0m\u001b[1;33m.\u001b[0m\u001b[0m_get_label_or_level_values\u001b[0m\u001b[1;33m(\u001b[0m\u001b[0mby\u001b[0m\u001b[1;33m,\u001b[0m \u001b[0maxis\u001b[0m\u001b[1;33m=\u001b[0m\u001b[0maxis\u001b[0m\u001b[1;33m)\u001b[0m\u001b[1;33m\u001b[0m\u001b[1;33m\u001b[0m\u001b[0m\n\u001b[0m\u001b[0;32m   4994\u001b[0m \u001b[1;33m\u001b[0m\u001b[0m\n\u001b[0;32m   4995\u001b[0m             \u001b[1;32mif\u001b[0m \u001b[0misinstance\u001b[0m\u001b[1;33m(\u001b[0m\u001b[0mascending\u001b[0m\u001b[1;33m,\u001b[0m \u001b[1;33m(\u001b[0m\u001b[0mtuple\u001b[0m\u001b[1;33m,\u001b[0m \u001b[0mlist\u001b[0m\u001b[1;33m)\u001b[0m\u001b[1;33m)\u001b[0m\u001b[1;33m:\u001b[0m\u001b[1;33m\u001b[0m\u001b[1;33m\u001b[0m\u001b[0m\n",
      "\u001b[1;32mC:\\ProgramData\\Anaconda3\\lib\\site-packages\\pandas\\core\\generic.py\u001b[0m in \u001b[0;36m_get_label_or_level_values\u001b[1;34m(self, key, axis)\u001b[0m\n\u001b[0;32m   1772\u001b[0m             \u001b[0mvalues\u001b[0m \u001b[1;33m=\u001b[0m \u001b[0mself\u001b[0m\u001b[1;33m.\u001b[0m\u001b[0maxes\u001b[0m\u001b[1;33m[\u001b[0m\u001b[0maxis\u001b[0m\u001b[1;33m]\u001b[0m\u001b[1;33m.\u001b[0m\u001b[0mget_level_values\u001b[0m\u001b[1;33m(\u001b[0m\u001b[0mkey\u001b[0m\u001b[1;33m)\u001b[0m\u001b[1;33m.\u001b[0m\u001b[0m_values\u001b[0m\u001b[1;33m\u001b[0m\u001b[1;33m\u001b[0m\u001b[0m\n\u001b[0;32m   1773\u001b[0m         \u001b[1;32melse\u001b[0m\u001b[1;33m:\u001b[0m\u001b[1;33m\u001b[0m\u001b[1;33m\u001b[0m\u001b[0m\n\u001b[1;32m-> 1774\u001b[1;33m             \u001b[1;32mraise\u001b[0m \u001b[0mKeyError\u001b[0m\u001b[1;33m(\u001b[0m\u001b[0mkey\u001b[0m\u001b[1;33m)\u001b[0m\u001b[1;33m\u001b[0m\u001b[1;33m\u001b[0m\u001b[0m\n\u001b[0m\u001b[0;32m   1775\u001b[0m \u001b[1;33m\u001b[0m\u001b[0m\n\u001b[0;32m   1776\u001b[0m         \u001b[1;31m# Check for duplicates\u001b[0m\u001b[1;33m\u001b[0m\u001b[1;33m\u001b[0m\u001b[1;33m\u001b[0m\u001b[0m\n",
      "\u001b[1;31mKeyError\u001b[0m: '0'"
     ]
    }
   ],
   "source": [
    "final_df.sort_values(by = '0', ascending = False)"
   ]
  },
  {
   "cell_type": "code",
   "execution_count": null,
   "metadata": {},
   "outputs": [],
   "source": [
    ".sort_values(ascending = False)"
   ]
  },
  {
   "cell_type": "code",
   "execution_count": null,
   "metadata": {},
   "outputs": [],
   "source": []
  }
 ],
 "metadata": {
  "kernelspec": {
   "display_name": "Python 3",
   "language": "python",
   "name": "python3"
  },
  "language_info": {
   "codemirror_mode": {
    "name": "ipython",
    "version": 3
   },
   "file_extension": ".py",
   "mimetype": "text/x-python",
   "name": "python",
   "nbconvert_exporter": "python",
   "pygments_lexer": "ipython3",
   "version": "3.7.4"
  }
 },
 "nbformat": 4,
 "nbformat_minor": 2
}

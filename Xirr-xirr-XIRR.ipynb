{
 "cells": [
  {
   "cell_type": "code",
   "execution_count": null,
   "metadata": {},
   "outputs": [],
   "source": [
    "import numpy as np\n",
    "import pandas as pd\n",
    "from datetime import timedelta, datetime, date"
   ]
  },
  {
   "cell_type": "markdown",
   "metadata": {},
   "source": [
    "#### Feed the downloaded file here"
   ]
  },
  {
   "cell_type": "code",
   "execution_count": null,
   "metadata": {},
   "outputs": [],
   "source": [
    "df = pd.read_csv('transactions.csv')"
   ]
  },
  {
   "cell_type": "code",
   "execution_count": null,
   "metadata": {},
   "outputs": [],
   "source": [
    "df.columns = df.columns.str.strip()\n",
    "df.head()"
   ]
  },
  {
   "cell_type": "code",
   "execution_count": null,
   "metadata": {},
   "outputs": [],
   "source": [
    "df[\"Date\"] = pd.to_datetime(df[\"Date\"])"
   ]
  },
  {
   "cell_type": "code",
   "execution_count": null,
   "metadata": {},
   "outputs": [],
   "source": [
    "df2 = df"
   ]
  },
  {
   "cell_type": "markdown",
   "metadata": {},
   "source": [
    "#### Prevent all the liquid fund from showing"
   ]
  },
  {
   "cell_type": "code",
   "execution_count": null,
   "metadata": {},
   "outputs": [],
   "source": [
    "df = df[~df['Name of the Fund'].str.contains(\"Liquid|Money|Gilt|Cash|Bond|Debt|Short|Gold|Securities|Duration|Income\")]\n",
    "##remove the upper line in case performance of all the mutual fund is required\n",
    "df = df.loc[~df['Order'].str.contains(\"sell\")]"
   ]
  },
  {
   "cell_type": "code",
   "execution_count": null,
   "metadata": {},
   "outputs": [],
   "source": [
    "today = pd.to_datetime(date.today())"
   ]
  },
  {
   "cell_type": "markdown",
   "metadata": {},
   "source": [
    "#### Control the number of days to look behind / calculate the Xirr for. for three years we take 365*3 = 1095 days"
   ]
  },
  {
   "cell_type": "code",
   "execution_count": null,
   "metadata": {},
   "outputs": [],
   "source": [
    "df = df.loc[df['Date'] > (pd.to_datetime(date.today() - timedelta(days = 1095)))]"
   ]
  },
  {
   "cell_type": "code",
   "execution_count": null,
   "metadata": {},
   "outputs": [],
   "source": [
    "mf_name = df['Name of the Fund'].unique()"
   ]
  },
  {
   "cell_type": "markdown",
   "metadata": {},
   "source": [
    "#### See the list of all the mutual funds"
   ]
  },
  {
   "cell_type": "code",
   "execution_count": null,
   "metadata": {},
   "outputs": [],
   "source": [
    "mf_name"
   ]
  },
  {
   "cell_type": "code",
   "execution_count": null,
   "metadata": {},
   "outputs": [],
   "source": [
    "df['Amount (INR)'] = df['Amount (INR)']*-1"
   ]
  },
  {
   "cell_type": "code",
   "execution_count": null,
   "metadata": {},
   "outputs": [],
   "source": [
    "df.head()"
   ]
  },
  {
   "cell_type": "markdown",
   "metadata": {},
   "source": [
    "#### Create the  function that calculates Xirr ( funciton copied from https://github.com/SunilVeeravalli/XIRR_in_Python/blob/main/xirr.py )"
   ]
  },
  {
   "cell_type": "code",
   "execution_count": null,
   "metadata": {},
   "outputs": [],
   "source": [
    "min_rate = 0\n",
    "max_rate = 0\n",
    "def npv(seq_of_rates: np.array, data: pd.DataFrame) -> tuple:\n",
    "    global min_rate\n",
    "    global max_rate\n",
    "    \n",
    "    for a_rate in seq_of_rates:\n",
    "        max_date = data['Date'].max()\n",
    "        data['npv'] = data['Amount'] * ((1 + (a_rate / 100)) ** ((max_date - data['Date']).dt.days / 365))\n",
    "        \n",
    "        if data['Amount'].sum() > 0:\n",
    "            if data['npv'].sum() > 0:\n",
    "                min_rate = a_rate\n",
    "            else:\n",
    "                max_rate = a_rate\n",
    "                break\n",
    "        else:\n",
    "            if data['npv'].sum() < 0:\n",
    "                min_rate = a_rate\n",
    "            else:\n",
    "                max_rate = a_rate\n",
    "                break\n",
    "    \n",
    "    return min_rate, max_rate\n",
    "\n",
    "\n",
    "def xirr(data: pd.DataFrame) -> float:\n",
    "    # Finding out which column contains Date and Amount\n",
    "    try:\n",
    "        data.iloc[:, 0].astype(float)\n",
    "        col_names = ['Amount', 'Date']\n",
    "    except Exception as _:\n",
    "        col_names = ['Date', 'Amount']\n",
    "    \n",
    "    # Renaming the columns accordingly and converting to correct data types\n",
    "    data.columns = col_names\n",
    "    data = data.assign(Date = pd.to_datetime(arg = data['Date'], infer_datetime_format = True, dayfirst = True).dt.date,\n",
    "                       Amount = data['Amount'].astype(float))\n",
    "    \n",
    "    if data['Amount'].sum() > 0:\n",
    "        step_values = [100, 10, 1, 0.01, 0.001, 0.0001]\n",
    "        stop = 10000\n",
    "    else:\n",
    "        step_values = [-100, -10, -1, -0.01, -0.001, -0.0001]\n",
    "        stop = -10000\n",
    "    \n",
    "    start = 0\n",
    "    for i in range(len(step_values)):\n",
    "        seq_of_rates = np.arange(start = start, stop = stop, step = step_values[i])\n",
    "        start, stop = npv(seq_of_rates, data)\n",
    "    \n",
    "    return (start + stop) / 2\n"
   ]
  },
  {
   "cell_type": "code",
   "execution_count": null,
   "metadata": {},
   "outputs": [],
   "source": [
    "solution = []\n",
    "mf= []\n",
    "for i in range(0,len(mf_name)):\n",
    "    mf = df[df['Name of the Fund'] == mf_name[i]]\n",
    "    mf = mf.append(pd.DataFrame({'Date': today, 'Amount (INR)':mf.Units.sum() * mf['Current Nav'].unique() }), \n",
    "                   ignore_index = True, sort = True)\n",
    "    ready_df = mf[['Date','Amount (INR)']]\n",
    "    solution.append(xirr(ready_df))"
   ]
  },
  {
   "cell_type": "code",
   "execution_count": null,
   "metadata": {},
   "outputs": [],
   "source": [
    "final_df = pd.DataFrame(list(zip(mf_name.tolist(),solution)))"
   ]
  },
  {
   "cell_type": "code",
   "execution_count": null,
   "metadata": {},
   "outputs": [],
   "source": [
    "final_df.columns = ['Name of the Fund', 'Xirr']"
   ]
  },
  {
   "cell_type": "markdown",
   "metadata": {},
   "source": [
    "### See the final performance of the mutual fund sorted based on the overall Xirr"
   ]
  },
  {
   "cell_type": "code",
   "execution_count": null,
   "metadata": {
    "scrolled": true
   },
   "outputs": [],
   "source": [
    "final_df.sort_values('Xirr', ascending = False)"
   ]
  },
  {
   "cell_type": "code",
   "execution_count": null,
   "metadata": {},
   "outputs": [],
   "source": []
  },
  {
   "cell_type": "code",
   "execution_count": null,
   "metadata": {},
   "outputs": [],
   "source": []
  }
 ],
 "metadata": {
  "kernelspec": {
   "display_name": "Python 3",
   "language": "python",
   "name": "python3"
  },
  "language_info": {
   "codemirror_mode": {
    "name": "ipython",
    "version": 3
   },
   "file_extension": ".py",
   "mimetype": "text/x-python",
   "name": "python",
   "nbconvert_exporter": "python",
   "pygments_lexer": "ipython3",
   "version": "3.7.4"
  }
 },
 "nbformat": 4,
 "nbformat_minor": 2
}

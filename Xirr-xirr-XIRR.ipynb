{
 "cells": [
  {
   "cell_type": "code",
   "execution_count": 4,
   "metadata": {},
   "outputs": [],
   "source": [
    "import numpy as np\n",
    "import pandas as pd\n",
    "from datetime import timedelta, datetime, date"
   ]
  },
  {
   "cell_type": "markdown",
   "metadata": {},
   "source": [
    "#### Feed the downloaded file here"
   ]
  },
  {
   "cell_type": "code",
   "execution_count": 5,
   "metadata": {},
   "outputs": [],
   "source": [
    "df = pd.read_csv(r'C:\\Users\\user\\Downloads\\transactions2.csv')"
   ]
  },
  {
   "cell_type": "code",
   "execution_count": 6,
   "metadata": {},
   "outputs": [
    {
     "data": {
      "text/html": [
       "<div>\n",
       "<style scoped>\n",
       "    .dataframe tbody tr th:only-of-type {\n",
       "        vertical-align: middle;\n",
       "    }\n",
       "\n",
       "    .dataframe tbody tr th {\n",
       "        vertical-align: top;\n",
       "    }\n",
       "\n",
       "    .dataframe thead th {\n",
       "        text-align: right;\n",
       "    }\n",
       "</style>\n",
       "<table border=\"1\" class=\"dataframe\">\n",
       "  <thead>\n",
       "    <tr style=\"text-align: right;\">\n",
       "      <th></th>\n",
       "      <th>Date</th>\n",
       "      <th>Folio Number</th>\n",
       "      <th>Name of the Fund</th>\n",
       "      <th>Order</th>\n",
       "      <th>Units</th>\n",
       "      <th>NAV</th>\n",
       "      <th>Current Nav</th>\n",
       "      <th>Amount (INR)</th>\n",
       "    </tr>\n",
       "  </thead>\n",
       "  <tbody>\n",
       "    <tr>\n",
       "      <td>0</td>\n",
       "      <td>2022-08-11</td>\n",
       "      <td>5102363071</td>\n",
       "      <td>Quant Active Growth Direct Plan</td>\n",
       "      <td>buy</td>\n",
       "      <td>22.671</td>\n",
       "      <td>441.0636</td>\n",
       "      <td>443.2057</td>\n",
       "      <td>9999.50</td>\n",
       "    </tr>\n",
       "    <tr>\n",
       "      <td>1</td>\n",
       "      <td>2022-08-11</td>\n",
       "      <td>5102363071</td>\n",
       "      <td>Quant Infrastructure Growth Direct Plan</td>\n",
       "      <td>buy</td>\n",
       "      <td>432.598</td>\n",
       "      <td>23.1150</td>\n",
       "      <td>23.2289</td>\n",
       "      <td>9999.50</td>\n",
       "    </tr>\n",
       "    <tr>\n",
       "      <td>2</td>\n",
       "      <td>2022-08-11</td>\n",
       "      <td>9103116903</td>\n",
       "      <td>PGIM India Midcap Opportunities Growth Direct ...</td>\n",
       "      <td>buy</td>\n",
       "      <td>204.280</td>\n",
       "      <td>48.9500</td>\n",
       "      <td>49.2200</td>\n",
       "      <td>9999.50</td>\n",
       "    </tr>\n",
       "    <tr>\n",
       "      <td>3</td>\n",
       "      <td>2022-08-11</td>\n",
       "      <td>17716485234</td>\n",
       "      <td>Canara Robeco Small Cap Growth Direct Plan</td>\n",
       "      <td>buy</td>\n",
       "      <td>388.481</td>\n",
       "      <td>25.7400</td>\n",
       "      <td>25.7100</td>\n",
       "      <td>9999.50</td>\n",
       "    </tr>\n",
       "    <tr>\n",
       "      <td>4</td>\n",
       "      <td>2022-08-11</td>\n",
       "      <td>5102363071</td>\n",
       "      <td>Quant Active Growth Direct Plan</td>\n",
       "      <td>buy</td>\n",
       "      <td>11.336</td>\n",
       "      <td>441.0636</td>\n",
       "      <td>443.2057</td>\n",
       "      <td>4999.75</td>\n",
       "    </tr>\n",
       "  </tbody>\n",
       "</table>\n",
       "</div>"
      ],
      "text/plain": [
       "             Date Folio Number  \\\n",
       "0      2022-08-11   5102363071   \n",
       "1      2022-08-11   5102363071   \n",
       "2      2022-08-11   9103116903   \n",
       "3      2022-08-11  17716485234   \n",
       "4      2022-08-11   5102363071   \n",
       "\n",
       "                                    Name of the Fund Order    Units       NAV  \\\n",
       "0                    Quant Active Growth Direct Plan   buy   22.671  441.0636   \n",
       "1            Quant Infrastructure Growth Direct Plan   buy  432.598   23.1150   \n",
       "2  PGIM India Midcap Opportunities Growth Direct ...   buy  204.280   48.9500   \n",
       "3         Canara Robeco Small Cap Growth Direct Plan   buy  388.481   25.7400   \n",
       "4                    Quant Active Growth Direct Plan   buy   11.336  441.0636   \n",
       "\n",
       "   Current Nav  Amount (INR)  \n",
       "0     443.2057       9999.50  \n",
       "1      23.2289       9999.50  \n",
       "2      49.2200       9999.50  \n",
       "3      25.7100       9999.50  \n",
       "4     443.2057       4999.75  "
      ]
     },
     "execution_count": 6,
     "metadata": {},
     "output_type": "execute_result"
    }
   ],
   "source": [
    "df.columns = df.columns.str.strip()\n",
    "df.head()"
   ]
  },
  {
   "cell_type": "code",
   "execution_count": 7,
   "metadata": {},
   "outputs": [],
   "source": [
    "df[\"Date\"] = pd.to_datetime(df[\"Date\"])"
   ]
  },
  {
   "cell_type": "code",
   "execution_count": 8,
   "metadata": {},
   "outputs": [],
   "source": [
    "df2 = df"
   ]
  },
  {
   "cell_type": "markdown",
   "metadata": {},
   "source": [
    "#### Prevent all the liquid fund from showing"
   ]
  },
  {
   "cell_type": "code",
   "execution_count": 9,
   "metadata": {},
   "outputs": [],
   "source": [
    "df = df[~df['Name of the Fund'].str.contains(\"Liquid|Money|Gilt|Cash|Bond|Debt|Short|Gold|Securities|Duration|Income\")]\n",
    "##remove the upper line in case performance of all the mutual fund is required\n",
    "df = df.loc[~df['Order'].str.contains(\"sell\")]"
   ]
  },
  {
   "cell_type": "code",
   "execution_count": 10,
   "metadata": {},
   "outputs": [],
   "source": [
    "today = pd.to_datetime(date.today())"
   ]
  },
  {
   "cell_type": "markdown",
   "metadata": {},
   "source": [
    "#### Control the number of days to look behind / calculate the Xirr for. for three years we take 365*3 = 1095 days"
   ]
  },
  {
   "cell_type": "code",
   "execution_count": 11,
   "metadata": {},
   "outputs": [],
   "source": [
    "df = df.loc[df['Date'] > (pd.to_datetime(date.today() - timedelta(days = 1095)))]"
   ]
  },
  {
   "cell_type": "code",
   "execution_count": 12,
   "metadata": {},
   "outputs": [],
   "source": [
    "mf_name = df['Name of the Fund'].unique()"
   ]
  },
  {
   "cell_type": "markdown",
   "metadata": {},
   "source": [
    "#### See the list of all the mutual funds"
   ]
  },
  {
   "cell_type": "code",
   "execution_count": 13,
   "metadata": {},
   "outputs": [
    {
     "data": {
      "text/plain": [
       "array(['Quant Active Growth Direct Plan',\n",
       "       'Quant Infrastructure Growth Direct Plan',\n",
       "       'PGIM India Midcap Opportunities Growth Direct Plan',\n",
       "       'Canara Robeco Small Cap Growth Direct Plan',\n",
       "       'Quant Tax Growth Direct Plan',\n",
       "       'Mirae Asset Tax Saver Growth Direct Plan',\n",
       "       'Axis Small Cap Growth Direct Plan',\n",
       "       'Mirae Asset Emerging Bluechip Growth Direct Plan',\n",
       "       'Quant Small Cap Growth Direct Plan',\n",
       "       'ICICI Prudential Commodities Growth Direct Plan',\n",
       "       'Tata Digital India Growth Direct Plan',\n",
       "       'ICICI Prudential Technology Growth Direct Plan'], dtype=object)"
      ]
     },
     "execution_count": 13,
     "metadata": {},
     "output_type": "execute_result"
    }
   ],
   "source": [
    "mf_name"
   ]
  },
  {
   "cell_type": "code",
   "execution_count": 14,
   "metadata": {},
   "outputs": [],
   "source": [
    "df['Amount (INR)'] = df['Amount (INR)']*-1"
   ]
  },
  {
   "cell_type": "code",
   "execution_count": 15,
   "metadata": {},
   "outputs": [
    {
     "data": {
      "text/html": [
       "<div>\n",
       "<style scoped>\n",
       "    .dataframe tbody tr th:only-of-type {\n",
       "        vertical-align: middle;\n",
       "    }\n",
       "\n",
       "    .dataframe tbody tr th {\n",
       "        vertical-align: top;\n",
       "    }\n",
       "\n",
       "    .dataframe thead th {\n",
       "        text-align: right;\n",
       "    }\n",
       "</style>\n",
       "<table border=\"1\" class=\"dataframe\">\n",
       "  <thead>\n",
       "    <tr style=\"text-align: right;\">\n",
       "      <th></th>\n",
       "      <th>Date</th>\n",
       "      <th>Folio Number</th>\n",
       "      <th>Name of the Fund</th>\n",
       "      <th>Order</th>\n",
       "      <th>Units</th>\n",
       "      <th>NAV</th>\n",
       "      <th>Current Nav</th>\n",
       "      <th>Amount (INR)</th>\n",
       "    </tr>\n",
       "  </thead>\n",
       "  <tbody>\n",
       "    <tr>\n",
       "      <td>0</td>\n",
       "      <td>2022-08-11</td>\n",
       "      <td>5102363071</td>\n",
       "      <td>Quant Active Growth Direct Plan</td>\n",
       "      <td>buy</td>\n",
       "      <td>22.671</td>\n",
       "      <td>441.0636</td>\n",
       "      <td>443.2057</td>\n",
       "      <td>-9999.50</td>\n",
       "    </tr>\n",
       "    <tr>\n",
       "      <td>1</td>\n",
       "      <td>2022-08-11</td>\n",
       "      <td>5102363071</td>\n",
       "      <td>Quant Infrastructure Growth Direct Plan</td>\n",
       "      <td>buy</td>\n",
       "      <td>432.598</td>\n",
       "      <td>23.1150</td>\n",
       "      <td>23.2289</td>\n",
       "      <td>-9999.50</td>\n",
       "    </tr>\n",
       "    <tr>\n",
       "      <td>2</td>\n",
       "      <td>2022-08-11</td>\n",
       "      <td>9103116903</td>\n",
       "      <td>PGIM India Midcap Opportunities Growth Direct ...</td>\n",
       "      <td>buy</td>\n",
       "      <td>204.280</td>\n",
       "      <td>48.9500</td>\n",
       "      <td>49.2200</td>\n",
       "      <td>-9999.50</td>\n",
       "    </tr>\n",
       "    <tr>\n",
       "      <td>3</td>\n",
       "      <td>2022-08-11</td>\n",
       "      <td>17716485234</td>\n",
       "      <td>Canara Robeco Small Cap Growth Direct Plan</td>\n",
       "      <td>buy</td>\n",
       "      <td>388.481</td>\n",
       "      <td>25.7400</td>\n",
       "      <td>25.7100</td>\n",
       "      <td>-9999.50</td>\n",
       "    </tr>\n",
       "    <tr>\n",
       "      <td>4</td>\n",
       "      <td>2022-08-11</td>\n",
       "      <td>5102363071</td>\n",
       "      <td>Quant Active Growth Direct Plan</td>\n",
       "      <td>buy</td>\n",
       "      <td>11.336</td>\n",
       "      <td>441.0636</td>\n",
       "      <td>443.2057</td>\n",
       "      <td>-4999.75</td>\n",
       "    </tr>\n",
       "  </tbody>\n",
       "</table>\n",
       "</div>"
      ],
      "text/plain": [
       "        Date Folio Number                                   Name of the Fund  \\\n",
       "0 2022-08-11   5102363071                    Quant Active Growth Direct Plan   \n",
       "1 2022-08-11   5102363071            Quant Infrastructure Growth Direct Plan   \n",
       "2 2022-08-11   9103116903  PGIM India Midcap Opportunities Growth Direct ...   \n",
       "3 2022-08-11  17716485234         Canara Robeco Small Cap Growth Direct Plan   \n",
       "4 2022-08-11   5102363071                    Quant Active Growth Direct Plan   \n",
       "\n",
       "  Order    Units       NAV  Current Nav  Amount (INR)  \n",
       "0   buy   22.671  441.0636     443.2057      -9999.50  \n",
       "1   buy  432.598   23.1150      23.2289      -9999.50  \n",
       "2   buy  204.280   48.9500      49.2200      -9999.50  \n",
       "3   buy  388.481   25.7400      25.7100      -9999.50  \n",
       "4   buy   11.336  441.0636     443.2057      -4999.75  "
      ]
     },
     "execution_count": 15,
     "metadata": {},
     "output_type": "execute_result"
    }
   ],
   "source": [
    "df.head()"
   ]
  },
  {
   "cell_type": "markdown",
   "metadata": {},
   "source": [
    "#### Create the  function that calculates Xirr ( funciton copied from https://github.com/SunilVeeravalli/XIRR_in_Python/blob/main/xirr.py )"
   ]
  },
  {
   "cell_type": "code",
   "execution_count": 16,
   "metadata": {},
   "outputs": [],
   "source": [
    "min_rate = 0\n",
    "max_rate = 0\n",
    "def npv(seq_of_rates: np.array, data: pd.DataFrame) -> tuple:\n",
    "    global min_rate\n",
    "    global max_rate\n",
    "    \n",
    "    for a_rate in seq_of_rates:\n",
    "        max_date = data['Date'].max()\n",
    "        data['npv'] = data['Amount'] * ((1 + (a_rate / 100)) ** ((max_date - data['Date']).dt.days / 365))\n",
    "        \n",
    "        if data['Amount'].sum() > 0:\n",
    "            if data['npv'].sum() > 0:\n",
    "                min_rate = a_rate\n",
    "            else:\n",
    "                max_rate = a_rate\n",
    "                break\n",
    "        else:\n",
    "            if data['npv'].sum() < 0:\n",
    "                min_rate = a_rate\n",
    "            else:\n",
    "                max_rate = a_rate\n",
    "                break\n",
    "    \n",
    "    return min_rate, max_rate\n",
    "\n",
    "\n",
    "def xirr(data: pd.DataFrame) -> float:\n",
    "    # Finding out which column contains Date and Amount\n",
    "    try:\n",
    "        data.iloc[:, 0].astype(float)\n",
    "        col_names = ['Amount', 'Date']\n",
    "    except Exception as _:\n",
    "        col_names = ['Date', 'Amount']\n",
    "    \n",
    "    # Renaming the columns accordingly and converting to correct data types\n",
    "    data.columns = col_names\n",
    "    data = data.assign(Date = pd.to_datetime(arg = data['Date'], infer_datetime_format = True, dayfirst = True).dt.date,\n",
    "                       Amount = data['Amount'].astype(float))\n",
    "    \n",
    "    if data['Amount'].sum() > 0:\n",
    "        step_values = [100, 10, 1, 0.01, 0.001, 0.0001]\n",
    "        stop = 10000\n",
    "    else:\n",
    "        step_values = [-100, -10, -1, -0.01, -0.001, -0.0001]\n",
    "        stop = -10000\n",
    "    \n",
    "    start = 0\n",
    "    for i in range(len(step_values)):\n",
    "        seq_of_rates = np.arange(start = start, stop = stop, step = step_values[i])\n",
    "        start, stop = npv(seq_of_rates, data)\n",
    "    \n",
    "    return (start + stop) / 2\n"
   ]
  },
  {
   "cell_type": "code",
   "execution_count": 17,
   "metadata": {},
   "outputs": [],
   "source": [
    "solution = []\n",
    "mf= []\n",
    "for i in range(0,len(mf_name)):\n",
    "    mf = df[df['Name of the Fund'] == mf_name[i]]\n",
    "    mf = mf.append(pd.DataFrame({'Date': today, 'Amount (INR)':mf.Units.sum() * mf['Current Nav'].unique() }), \n",
    "                   ignore_index = True, sort = True)\n",
    "    ready_df = mf[['Date','Amount (INR)']]\n",
    "    solution.append(xirr(ready_df))"
   ]
  },
  {
   "cell_type": "code",
   "execution_count": 18,
   "metadata": {},
   "outputs": [],
   "source": [
    "final_df = pd.DataFrame(list(zip(mf_name.tolist(),solution)))"
   ]
  },
  {
   "cell_type": "code",
   "execution_count": 19,
   "metadata": {},
   "outputs": [],
   "source": [
    "final_df.columns = ['Name of the Fund', 'Xirr']"
   ]
  },
  {
   "cell_type": "markdown",
   "metadata": {},
   "source": [
    "### See the final performance of the mutual fund sorted based on the overall Xirr"
   ]
  },
  {
   "cell_type": "code",
   "execution_count": 20,
   "metadata": {
    "scrolled": true
   },
   "outputs": [
    {
     "data": {
      "text/html": [
       "<div>\n",
       "<style scoped>\n",
       "    .dataframe tbody tr th:only-of-type {\n",
       "        vertical-align: middle;\n",
       "    }\n",
       "\n",
       "    .dataframe tbody tr th {\n",
       "        vertical-align: top;\n",
       "    }\n",
       "\n",
       "    .dataframe thead th {\n",
       "        text-align: right;\n",
       "    }\n",
       "</style>\n",
       "<table border=\"1\" class=\"dataframe\">\n",
       "  <thead>\n",
       "    <tr style=\"text-align: right;\">\n",
       "      <th></th>\n",
       "      <th>Name of the Fund</th>\n",
       "      <th>Xirr</th>\n",
       "    </tr>\n",
       "  </thead>\n",
       "  <tbody>\n",
       "    <tr>\n",
       "      <td>9</td>\n",
       "      <td>ICICI Prudential Commodities Growth Direct Plan</td>\n",
       "      <td>132.99885</td>\n",
       "    </tr>\n",
       "    <tr>\n",
       "      <td>6</td>\n",
       "      <td>Axis Small Cap Growth Direct Plan</td>\n",
       "      <td>93.99385</td>\n",
       "    </tr>\n",
       "    <tr>\n",
       "      <td>8</td>\n",
       "      <td>Quant Small Cap Growth Direct Plan</td>\n",
       "      <td>91.59965</td>\n",
       "    </tr>\n",
       "    <tr>\n",
       "      <td>7</td>\n",
       "      <td>Mirae Asset Emerging Bluechip Growth Direct Plan</td>\n",
       "      <td>89.03985</td>\n",
       "    </tr>\n",
       "    <tr>\n",
       "      <td>4</td>\n",
       "      <td>Quant Tax Growth Direct Plan</td>\n",
       "      <td>88.85985</td>\n",
       "    </tr>\n",
       "    <tr>\n",
       "      <td>10</td>\n",
       "      <td>Tata Digital India Growth Direct Plan</td>\n",
       "      <td>86.82625</td>\n",
       "    </tr>\n",
       "    <tr>\n",
       "      <td>5</td>\n",
       "      <td>Mirae Asset Tax Saver Growth Direct Plan</td>\n",
       "      <td>84.69905</td>\n",
       "    </tr>\n",
       "    <tr>\n",
       "      <td>1</td>\n",
       "      <td>Quant Infrastructure Growth Direct Plan</td>\n",
       "      <td>83.88635</td>\n",
       "    </tr>\n",
       "    <tr>\n",
       "      <td>2</td>\n",
       "      <td>PGIM India Midcap Opportunities Growth Direct ...</td>\n",
       "      <td>81.43245</td>\n",
       "    </tr>\n",
       "    <tr>\n",
       "      <td>0</td>\n",
       "      <td>Quant Active Growth Direct Plan</td>\n",
       "      <td>68.75435</td>\n",
       "    </tr>\n",
       "    <tr>\n",
       "      <td>11</td>\n",
       "      <td>ICICI Prudential Technology Growth Direct Plan</td>\n",
       "      <td>63.18775</td>\n",
       "    </tr>\n",
       "    <tr>\n",
       "      <td>3</td>\n",
       "      <td>Canara Robeco Small Cap Growth Direct Plan</td>\n",
       "      <td>-4.16695</td>\n",
       "    </tr>\n",
       "  </tbody>\n",
       "</table>\n",
       "</div>"
      ],
      "text/plain": [
       "                                     Name of the Fund       Xirr\n",
       "9     ICICI Prudential Commodities Growth Direct Plan  132.99885\n",
       "6                   Axis Small Cap Growth Direct Plan   93.99385\n",
       "8                  Quant Small Cap Growth Direct Plan   91.59965\n",
       "7    Mirae Asset Emerging Bluechip Growth Direct Plan   89.03985\n",
       "4                        Quant Tax Growth Direct Plan   88.85985\n",
       "10              Tata Digital India Growth Direct Plan   86.82625\n",
       "5            Mirae Asset Tax Saver Growth Direct Plan   84.69905\n",
       "1             Quant Infrastructure Growth Direct Plan   83.88635\n",
       "2   PGIM India Midcap Opportunities Growth Direct ...   81.43245\n",
       "0                     Quant Active Growth Direct Plan   68.75435\n",
       "11     ICICI Prudential Technology Growth Direct Plan   63.18775\n",
       "3          Canara Robeco Small Cap Growth Direct Plan   -4.16695"
      ]
     },
     "execution_count": 20,
     "metadata": {},
     "output_type": "execute_result"
    }
   ],
   "source": [
    "final_df.sort_values('Xirr', ascending = False)"
   ]
  },
  {
   "cell_type": "code",
   "execution_count": null,
   "metadata": {},
   "outputs": [],
   "source": []
  },
  {
   "cell_type": "code",
   "execution_count": null,
   "metadata": {},
   "outputs": [],
   "source": []
  },
  {
   "cell_type": "code",
   "execution_count": null,
   "metadata": {},
   "outputs": [],
   "source": []
  },
  {
   "cell_type": "code",
   "execution_count": null,
   "metadata": {},
   "outputs": [],
   "source": []
  },
  {
   "cell_type": "code",
   "execution_count": null,
   "metadata": {},
   "outputs": [],
   "source": []
  }
 ],
 "metadata": {
  "kernelspec": {
   "display_name": "Python 3",
   "language": "python",
   "name": "python3"
  },
  "language_info": {
   "codemirror_mode": {
    "name": "ipython",
    "version": 3
   },
   "file_extension": ".py",
   "mimetype": "text/x-python",
   "name": "python",
   "nbconvert_exporter": "python",
   "pygments_lexer": "ipython3",
   "version": "3.7.4"
  }
 },
 "nbformat": 4,
 "nbformat_minor": 2
}
